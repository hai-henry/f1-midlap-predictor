{
 "cells": [
  {
   "cell_type": "markdown",
   "id": "09068574",
   "metadata": {},
   "source": [
    "# Lap Time Decomposer"
   ]
  },
  {
   "cell_type": "markdown",
   "id": "63a04879",
   "metadata": {},
   "source": [
    "## 00 - Packages"
   ]
  },
  {
   "cell_type": "code",
   "execution_count": null,
   "id": "fdf69fc6",
   "metadata": {},
   "outputs": [],
   "source": [
    "import fastf1 \n",
    "import pandas as pd \n",
    "import matplotlib.pyplot as plt \n",
    "import seaborn as sns\n",
    "from matplotlib.colors import LinearSegmentedColormap\n",
    "import fastf1.plotting "
   ]
  },
  {
   "cell_type": "markdown",
   "id": "208111ba",
   "metadata": {},
   "source": [
    "## 01 - Data Collection"
   ]
  },
  {
   "cell_type": "markdown",
   "id": "709c5224",
   "metadata": {},
   "source": [
    "Enabling cache is highly encouraged to speed up the runtime when re-running scripts."
   ]
  },
  {
   "cell_type": "code",
   "execution_count": null,
   "id": "506b4c09",
   "metadata": {},
   "outputs": [],
   "source": [
    "fastf1.Cache.enable_cache(\"../cache\") # Enable caching to speed up data retrieval"
   ]
  },
  {
   "cell_type": "markdown",
   "id": "b1b9bb07",
   "metadata": {},
   "source": [
    "The `get_session()` function is essential for data collection. This function allows us to grab sessions by inputting a particular season, grand prix, and session type (practice, qualifying, race). "
   ]
  },
  {
   "cell_type": "code",
   "execution_count": null,
   "id": "fb794e1d",
   "metadata": {},
   "outputs": [],
   "source": [
    "session = fastf1.get_session(2024, \"Monaco\", \"Q\") # Load Monaco 2024 Qualifying session\n",
    "session.load()"
   ]
  },
  {
   "cell_type": "markdown",
   "id": "8f5cd2c3",
   "metadata": {},
   "source": [
    "## 02 - Cleaning and Processing Data"
   ]
  },
  {
   "cell_type": "markdown",
   "id": "5492aa91",
   "metadata": {},
   "source": [
    "The dataset being used is the Monaco 2024 Qualifying data, which contains many potential outliers due to cooldown laps, inlaps, and outlaps. Although these features may have uses, the outliers should be removed from the dataset for this task. `pick_quicklaps()` is a function from FastF1's api that returns all lap times that are faster than a certain threshold (default is 107% of the best lap), this helps with dropping those non-flying laps."
   ]
  },
  {
   "cell_type": "code",
   "execution_count": null,
   "id": "64482734",
   "metadata": {},
   "outputs": [],
   "source": [
    "# Drop laps that have been deleted (e.g. Track limits) and Laps that are not accurate (e.g. Outlap, Inlap)\n",
    "quick_laps = session.laps.pick_quicklaps().copy()\n",
    "laps = quick_laps[(quick_laps[\"IsAccurate\"] == True) & (quick_laps[\"Deleted\"] == False)]"
   ]
  },
  {
   "cell_type": "code",
   "execution_count": null,
   "id": "b7cd0ea9",
   "metadata": {},
   "outputs": [],
   "source": [
    "# Convert time columns to timedelta for easier calculations\n",
    "laps[\"LapTime\"] = laps[\"LapTime\"].dt.total_seconds()\n",
    "laps[\"Sector1Time\"] = laps[\"Sector1Time\"].dt.total_seconds()\n",
    "laps[\"Sector2Time\"] = laps[\"Sector2Time\"].dt.total_seconds()\n",
    "laps[\"Sector3Time\"] = laps[\"Sector3Time\"].dt.total_seconds()\n",
    "laps[\"TyreLife\"] = laps[\"TyreLife\"].astype(int)\n",
    "laps.drop(columns=[\"PitInTime\", \"PitOutTime\", \"Position\", \"DeletedReason\"], inplace=True) # Drop columns that are not needed"
   ]
  },
  {
   "cell_type": "code",
   "execution_count": null,
   "id": "9b99e49d",
   "metadata": {},
   "outputs": [],
   "source": [
    "laps.rename(columns={\"LapTime\": \"LapTime (s)\", \"Sector1Time\": \"Sector1Time (s)\",\n",
    "                   \"Sector2Time\": \"Sector2Time (s)\", \"Sector3Time\": \"Sector3Time (s)\"}, inplace=True)"
   ]
  },
  {
   "cell_type": "markdown",
   "id": "c872dc2e",
   "metadata": {},
   "source": [
    "The `describe()` is a great function to help analyze the dataset and make sure that there are no significant outliers skewing the data."
   ]
  },
  {
   "cell_type": "code",
   "execution_count": null,
   "id": "a077f8ca",
   "metadata": {},
   "outputs": [],
   "source": [
    "print(laps[[\"Sector1Time (s)\", \"Sector2Time (s)\", \"Sector3Time (s)\", \"LapTime (s)\", \"TyreLife\"]].describe()) # Print statistics of the lap times and sectors"
   ]
  },
  {
   "cell_type": "markdown",
   "id": "a077531e",
   "metadata": {},
   "source": [
    "## 03 - Exploratory Data Analysis"
   ]
  },
  {
   "cell_type": "markdown",
   "id": "b7a3b2f9",
   "metadata": {},
   "source": [
    "### 3.1 Sector Time Distribution"
   ]
  },
  {
   "cell_type": "code",
   "execution_count": null,
   "id": "9684165c",
   "metadata": {},
   "outputs": [],
   "source": [
    "plt.style.use(\"dark_background\") # Enable dark background for plt\n",
    "\n",
    "fig, ax = plt.subplots(1,3, figsize=(18, 5))\n",
    "for ax_i in ax:\n",
    "    ax_i.grid(color=\"gray\", linestyle=\"--\", linewidth=0.5) # Add grid to each subplot\n",
    "    \n",
    "sns.histplot(data = laps, x=\"Sector1Time (s)\", bins=20, kde=True,color=\"red\", ax=ax[0]) # kde = Kernel Desnity Estimate (Density Curve)\n",
    "sns.histplot(data = laps, x=\"Sector2Time (s)\", bins=20, kde=True, color=\"royalblue\", ax=ax[1])\n",
    "sns.histplot(data = laps, x=\"Sector3Time (s)\", bins=20, kde=True, color=\"gold\", ax=ax[2])\n",
    "\n",
    "for i in range(3):\n",
    "    ax[i].set_title(f\"Sector {i + 1} Times\")\n",
    "    ax[i].set_xlabel(f\"Sector {i + 1} Time (seconds)\")\n",
    "    ax[i].set_ylabel(\"Frequency\")\n",
    "\n",
    "plt.suptitle(\"Sector Times Distribution - Monaco 2024 Qualifying\", fontsize=16)\n",
    "plt.tight_layout() \n",
    "plt.show()\n"
   ]
  },
  {
   "cell_type": "markdown",
   "id": "c35e4dc0",
   "metadata": {},
   "source": [
    "**Observation:**  \n",
    "- The histograms show that Sector 1 and Sector 2 are slightly skewed to the right, whereas Sector 3 is much closer to a symmetric (normal) distribution.\n",
    "- The right skewed distribution in Sectors 1 and 2 indicates that possible outliers still remain in our dataset. \n",
    "- It would be beneficial for us to look deeper and filter out the remaining outliers and re-plot the distribution to verify before working with the dataset."
   ]
  },
  {
   "cell_type": "markdown",
   "id": "7966465d",
   "metadata": {},
   "source": [
    "### 3.2 Sector Times vs. Lap Time"
   ]
  },
  {
   "cell_type": "code",
   "execution_count": null,
   "id": "634075fa",
   "metadata": {},
   "outputs": [],
   "source": [
    "fig, ax = plt.subplots(1, 3, figsize = (18, 5))\n",
    "\n",
    "tyre_life__cmap = LinearSegmentedColormap.from_list(\"TyreLife\", [\"limegreen\",\"yellow\",\"orange\", \"red\"]) # Create a colormap for tyre life\n",
    "\n",
    "for i in range(3):\n",
    "    sns.scatterplot(data = laps, x=f\"Sector{i+1}Time (s)\", y=\"LapTime (s)\", hue=\"TyreLife\", palette=tyre_life__cmap, ax=ax[i])\n",
    "    ax[i].set_title(f\"Lap Time vs. Sector {i + 1} Time \")\n",
    "    ax[i].set_xlabel(f\"Sector {i + 1} Time (seconds)\")\n",
    "    ax[i].set_ylabel(\"Lap Time (seconds)\")\n",
    "\n",
    "fig.suptitle(\"LapTime vs. Sector Time - Monaco 2024 Qualifying\", fontsize=16)\n",
    "\n",
    "plt.tight_layout()\n",
    "plt.show()"
   ]
  },
  {
   "cell_type": "markdown",
   "id": "f1a14002",
   "metadata": {},
   "source": [
    "**Observation:**  \n",
    "- All three sectors show a positive relationship where a slower sector time corresponds to a slower lap time (this is expected).\n",
    "- There are still a handful of outliers within all sectors, with a significant outlier in sector 3.\n",
    "- Sector 3 is much more tight and is steeper than the other sectors.\n",
    "- Interestingly, a longer tire life does not necessarily mean a slower lap time."
   ]
  },
  {
   "cell_type": "markdown",
   "id": "8ee4e412",
   "metadata": {},
   "source": [
    "### 3.3 Tyre Life vs. Sector Times"
   ]
  },
  {
   "cell_type": "code",
   "execution_count": null,
   "id": "729963fe",
   "metadata": {},
   "outputs": [],
   "source": [
    "fig, ax = plt.subplots(1, 3, figsize=(18, 5))\n",
    "\n",
    "for i in range(3):\n",
    "    sns.scatterplot(data = laps, x = \"TyreLife\", y = f\"Sector{i + 1}Time (s)\", hue=\"TyreLife\", palette=tyre_life__cmap, ax=ax[i])\n",
    "    ax[i].set_title(f\"Sector {i + 1} Time vs. Tyre Life \")\n",
    "    ax[i].set_xlabel(\"Tyre Life (laps)\")\n",
    "    ax[i].set_ylabel(f\"Sector {i + 1} Time (seconds)\")\n",
    "    \n",
    "fig.suptitle(\"Sector Times vs. Tyre Life - Monaco 2024 Qualifying\", fontsize=16)\n",
    "plt.tight_layout()\n",
    "plt.show()"
   ]
  },
  {
   "cell_type": "markdown",
   "id": "601228c1",
   "metadata": {},
   "source": [
    "**Observation:**\n",
    "- We can again see that the varied sector times come from an early tire life. Sector times get tighter as tire life extends.\n",
    "- Could this be explained by optimal tire performance window? Track temperatures? Track rubber?\n",
    "- Could it also be the teams' car peformance in the first two sectors with heavy braking corners?"
   ]
  },
  {
   "cell_type": "markdown",
   "id": "f6dd4a60",
   "metadata": {},
   "source": [
    "### 3.4 Tyre Life vs. Lap Time"
   ]
  },
  {
   "cell_type": "code",
   "execution_count": null,
   "id": "25963909",
   "metadata": {},
   "outputs": [],
   "source": [
    "plt.figure(figsize=(18, 8))\n",
    "\n",
    "sns.boxplot(data = laps, x=\"TyreLife\", y=\"LapTime (s)\",color=\"red\", linecolor=\"white\",\n",
    "            boxprops =dict(facecolor= \"red\", alpha= 0.6, edgecolor=\"white\"), \n",
    "            whiskerprops=dict(color=\"white\"),\n",
    "            medianprops=dict(color=\"grey\"),\n",
    "            capprops=dict(color=\"white\")\n",
    "            )\n",
    "\n",
    "plt.suptitle(\"Lap Time vs. Tyre Life - Monaco 2024 Qualifying\", fontsize=14)\n",
    "plt.ylabel(\"Lap Time (seconds)\")\n",
    "plt.xlabel(\"Tyre Life (laps)\")\n",
    "plt.tight_layout()\n",
    "plt.show()"
   ]
  },
  {
   "cell_type": "markdown",
   "id": "4a6c74b7",
   "metadata": {},
   "source": [
    "**Observation:**\n",
    "- We can see from the boxplot that from tyre life 2 $\\rightarrow 3$ there is an actually decrease in the median lap time.\n",
    "- From tyre life 3 the median lap time jumps around."
   ]
  },
  {
   "cell_type": "markdown",
   "id": "2138a35b",
   "metadata": {},
   "source": [
    "### 3.5 Team Pace Comparison"
   ]
  },
  {
   "cell_type": "code",
   "execution_count": null,
   "id": "1af74e08",
   "metadata": {},
   "outputs": [],
   "source": [
    "# Get the team order based on median lap times\n",
    "team_order = (laps[[\"Team\", \"LapTime (s)\"]]\n",
    "              .groupby(\"Team\")\n",
    "              .median()[\"LapTime (s)\"]\n",
    "              .sort_values()\n",
    "              .index\n",
    ") \n",
    "\n",
    "# Create a color palette for the teams\n",
    "team_palette = {team: fastf1.plotting.get_team_color(team, session=session)\n",
    "                for team in team_order}\n",
    "\n",
    "fig, ax = plt.subplots(figsize=(18, 8))\n",
    "sns.boxplot(\n",
    "    data=laps,\n",
    "    x=\"Team\",\n",
    "    y=\"LapTime (s)\",\n",
    "    hue=\"Team\",\n",
    "    order=team_order,\n",
    "    palette=team_palette,\n",
    "    whiskerprops=dict(color=\"white\"),\n",
    "    boxprops=dict(edgecolor=\"white\"),\n",
    "    medianprops=dict(color=\"grey\"),\n",
    "    capprops=dict(color=\"white\"),\n",
    ")\n",
    "\n",
    "plt.title(\"Team Pace Comparison - 2024 Monaco Qualifying \", fontsize=16)\n",
    "plt.grid(visible=False)\n",
    "\n",
    "ax.set(xlabel=None)\n",
    "plt.tight_layout()\n",
    "plt.show()"
   ]
  },
  {
   "cell_type": "markdown",
   "id": "e33b1b96",
   "metadata": {},
   "source": [
    "**Observation:**\n",
    "- We can observe from this plot the different teams and their lap time performances.\n",
    "- A tighter box shows a closer lap time performance between the drivers of the team whereas a large box explains a bigger difference.\n",
    "- You can see team Kick Sauber is considered an outlier with their fastest lap time at around 72 seconds.\n",
    "- We can use this to possible create a team offset feature for our model.\n",
    "- This could also explain the outliers in the previous plots."
   ]
  },
  {
   "cell_type": "code",
   "execution_count": null,
   "id": "d3512748",
   "metadata": {},
   "outputs": [],
   "source": [
    "drivers = session.drivers\n",
    "drivers = [session.get_driver(drivers)[\"Abbreviation\"] for drivers in drivers]"
   ]
  },
  {
   "cell_type": "code",
   "execution_count": null,
   "id": "68cd4cde",
   "metadata": {},
   "outputs": [],
   "source": [
    "sector_corr = laps[[\"Sector1Time (s)\",\"Sector2Time (s)\",\"Sector3Time (s)\", \"TyreLife\",\"LapTime (s)\"]].corr()\n",
    "\n",
    "plt.figure(figsize=(18,7))\n",
    "sns.heatmap(sector_corr, annot=True, cmap=\"vlag\", center=0)\n",
    "plt.title(\"Feature Correlation Matrix\", fontsize=16)\n",
    "plt.tight_layout()\n",
    "plt.show()"
   ]
  },
  {
   "cell_type": "markdown",
   "id": "bd582a39",
   "metadata": {},
   "source": [
    "**Observation:**\n",
    "- From the correlation plot you can see that TyreLife, LapTime, and the sector times have a low Pearson's R score meaning that there is little to no relationship between the features.\n",
    "- But sector times have  a Pearson's R of 0.9, 0.91, and 0.8 meaning that sector times have a relationship with lap time as expected\n",
    "  $$LapTime = Sector1 + Sector2 + Sector3$$"
   ]
  },
  {
   "cell_type": "code",
   "execution_count": null,
   "id": "31fe8ec2",
   "metadata": {},
   "outputs": [],
   "source": [
    "speed_corr = laps[[\"SpeedI1\", \"SpeedI2\", \"SpeedFL\", \"SpeedST\", \"LapTime (s)\", \"Sector1Time (s)\", \"Sector2Time (s)\", \"Sector3Time (s)\"]].corr()\n",
    "\n",
    "plt.figure(figsize=(18,8))\n",
    "sns.heatmap(speed_corr, annot=True, cmap=\"vlag\", center=0)\n",
    "plt.title(\"Speed Feature Correlation Matrix\", fontsize=16)\n",
    "plt.tight_layout()\n",
    "plt.show()"
   ]
  },
  {
   "cell_type": "markdown",
   "id": "207c4c32-57d3-46be-90c4-1d43df6da694",
   "metadata": {},
   "source": [
    "**Observation:**\n",
    "- In this correlation matrix I added the speed traps from sector 1, sector 2, finish line and the longest straight to see if there is any correlations with the other chosen features.\n",
    "- There are no correlations between the speed traps with lap times or sector times."
   ]
  },
  {
   "cell_type": "markdown",
   "id": "562bf4e7",
   "metadata": {},
   "source": [
    "## 04 - Feature Engineering"
   ]
  },
  {
   "cell_type": "code",
   "execution_count": null,
   "id": "35904f56",
   "metadata": {},
   "outputs": [],
   "source": []
  },
  {
   "cell_type": "markdown",
   "id": "738bf8c4",
   "metadata": {},
   "source": [
    "## 05 - Modeling"
   ]
  },
  {
   "cell_type": "markdown",
   "id": "320fa579",
   "metadata": {},
   "source": [
    "## 06 - Model Validation and Diagnostics"
   ]
  }
 ],
 "metadata": {
  "kernelspec": {
   "display_name": "f1-predictor",
   "language": "python",
   "name": "python3"
  },
  "language_info": {
   "codemirror_mode": {
    "name": "ipython",
    "version": 3
   },
   "file_extension": ".py",
   "mimetype": "text/x-python",
   "name": "python",
   "nbconvert_exporter": "python",
   "pygments_lexer": "ipython3",
   "version": "3.10.13"
  }
 },
 "nbformat": 4,
 "nbformat_minor": 5
}
