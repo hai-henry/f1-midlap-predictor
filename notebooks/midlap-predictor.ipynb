{
 "cells": [
  {
   "cell_type": "markdown",
   "id": "44e5ad2f",
   "metadata": {},
   "source": [
    "# Mid-Lap Predictor"
   ]
  },
  {
   "cell_type": "markdown",
   "id": "ae1ed06b",
   "metadata": {},
   "source": [
    "## 00 - Introduction & Project Overview"
   ]
  },
  {
   "cell_type": "markdown",
   "id": "8ad1e0d4",
   "metadata": {},
   "source": [
    "## 01 - Data Collection"
   ]
  },
  {
   "cell_type": "code",
   "execution_count": 31,
   "id": "c1eac44f",
   "metadata": {},
   "outputs": [],
   "source": [
    "import fastf1 \n",
    "import pandas as pd \n",
    "import matplotlib.pyplot as plt \n",
    "import seaborn as sns\n",
    "from matplotlib.colors import LinearSegmentedColormap\n",
    "import fastf1.plotting "
   ]
  },
  {
   "cell_type": "markdown",
   "id": "0b620499",
   "metadata": {},
   "source": [
    "Enabling cache is highly encouraged to speed up the runtime when re-running scripts."
   ]
  },
  {
   "cell_type": "code",
   "execution_count": 32,
   "id": "42260e35",
   "metadata": {},
   "outputs": [],
   "source": [
    "fastf1.Cache.enable_cache('../cache') # Enable caching to speed up data retrieval"
   ]
  },
  {
   "cell_type": "markdown",
   "id": "18b8787b",
   "metadata": {},
   "source": [
    "The `get_session()` function is essential for data collection. This function allows us to grab sessions by inputting a particular season, grand prix, and session type (practice, qualifying, race)."
   ]
  },
  {
   "cell_type": "code",
   "execution_count": null,
   "id": "d2958c6c",
   "metadata": {},
   "outputs": [],
   "source": [
    "# Extract all laps from each session\n",
    "for session in ['FP1', 'FP2', 'FP3', 'Q']:\n",
    "    session_data = fastf1.get_session(2025, 'Hungary', session)\n",
    "    session_data.load()\n",
    "    \n",
    "    laps = session_data.laps.to_csv(f'../data/raw/2025_Hungary_{session}_laps.csv', index=False)\n",
    "    print(f'Saved {session} laps data to CSV.')"
   ]
  },
  {
   "cell_type": "markdown",
   "id": "36f7a4df",
   "metadata": {},
   "source": [
    " Above we extract laps from practice and qualifying session however, many of the laps collected will be laps that are considered 'not accurate'. This means that many of the laps could be inlaps, outlaps, etc. So we will use the function `pick_quicklaps()` to help extract non-flying laps and laps that are faster than a specific threshold (default is 107% of the best lap)."
   ]
  },
  {
   "cell_type": "code",
   "execution_count": null,
   "id": "17062bf2",
   "metadata": {},
   "outputs": [],
   "source": [
    "# Extract quick laps from all sessions\n",
    "for session in ['FP1', 'FP2', 'FP3', 'Q']:\n",
    "    session_data = fastf1.get_session(2025, 'Hungary', session)\n",
    "    session_data.load()\n",
    "    \n",
    "    laps = session_data.laps.pick_quicklaps() # Pick only quick laps\n",
    "    laps.to_csv(f'../data/raw/2025_Hungary_{session}_quicklaps.csv', index=False)\n",
    "    print(f'Saved {session} laps data to CSV.')"
   ]
  },
  {
   "cell_type": "markdown",
   "id": "2072e465",
   "metadata": {},
   "source": [
    "To make reading the files more efficient, we will combine the laps from each session and create a new column for tagging each session (e.g. FP1, FP2, FP3, Q)"
   ]
  },
  {
   "cell_type": "code",
   "execution_count": null,
   "id": "a591f2d4",
   "metadata": {},
   "outputs": [],
   "source": [
    "sessions = ['FP1','FP2','FP3','Q']\n",
    "\n",
    "lap_filepaths = [f'../data/raw/2025_Hungary_{s}_laps.csv' for s in sessions] \n",
    "ql_filepaths = [f'../data/raw/2025_Hungary_{s}_quicklaps.csv' for s in sessions]\n",
    "\n",
    "lap_output = '../data/raw/2025_Hungary_all_laps.csv'\n",
    "ql_output = '../data/raw/2025_Hungary_all_quicklaps.csv'\n",
    "\n",
    "dfs = [] # List to hold dataframe for the laps\n",
    "for sess, fp in zip(sessions, ql_filepaths): # Iterate over sessions and filepaths using zip()\n",
    "    df = pd.read_csv(fp) # Read the CSV file into a DataFrame\n",
    "    df['SessionType'] = sess # Add a new column for session type\n",
    "    dfs.append(df) \n",
    "\n",
    "all_laps = pd.concat(dfs, ignore_index=True) # Concatenate all DataFrames into one\n",
    "all_laps.to_csv(ql_output, index=False) "
   ]
  },
  {
   "cell_type": "markdown",
   "id": "a7cbd556",
   "metadata": {},
   "source": [
    "The reason we will need these two seperate files is because using the `pick_quicklaps()` filters out laps that are inlaps and outlaps which we may need later on if we wanted to possibly research features such as tire degradation and the lap time loss due to tire deg."
   ]
  },
  {
   "cell_type": "code",
   "execution_count": null,
   "id": "40eb4b04",
   "metadata": {},
   "outputs": [
    {
     "name": "stdout",
     "output_type": "stream",
     "text": [
      "(1729, 32)\n",
      "(396, 32)\n"
     ]
    }
   ],
   "source": [
    "# Read laps and quicklaps data\n",
    "laps = pd.read_csv('../data/raw/2025_Hungary_all_laps.csv')\n",
    "quicklaps = pd.read_csv('../data/raw/2025_Hungary_all_quicklaps.csv')\n",
    "\n",
    "print(laps.shape)\n",
    "print(quicklaps.shape)"
   ]
  },
  {
   "cell_type": "markdown",
   "id": "7b98de93",
   "metadata": {},
   "source": [
    "## 02 - Data Cleaning"
   ]
  },
  {
   "cell_type": "code",
   "execution_count": null,
   "id": "284c2b2a",
   "metadata": {},
   "outputs": [],
   "source": [
    "# Need to convert to time delta first, then to seconds\n",
    "laps['LapTime (s)'] = pd.to_timedelta(laps['LapTime']).dt.total_seconds()\n",
    "laps['Sector1Time (s)'] = pd.to_timedelta(laps['Sector1Time']).dt.total_seconds()\n",
    "laps['Sector2Time (s)'] = pd.to_timedelta(laps['Sector2Time']).dt.total_seconds()\n",
    "laps['Sector3Time (s)'] = pd.to_timedelta(laps['Sector3Time']).dt.total_seconds()\n",
    "laps['TyreLife'] = laps['TyreLife'].astype(int)"
   ]
  },
  {
   "cell_type": "code",
   "execution_count": null,
   "id": "9dd99a83",
   "metadata": {},
   "outputs": [],
   "source": [
    "quicklaps['LapTime (s)'] = pd.to_timedelta(quicklaps['LapTime']).dt.total_seconds()\n",
    "quicklaps['Sector1Time (s)'] = pd.to_timedelta(quicklaps['Sector1Time']).dt.total_seconds()\n",
    "quicklaps['Sector2Time (s)'] = pd.to_timedelta(quicklaps['Sector2Time']).dt.total_seconds()\n",
    "quicklaps['Sector3Time (s)'] = pd.to_timedelta(quicklaps['Sector3Time']).dt.total_seconds()\n",
    "quicklaps['TyreLife'] = quicklaps['TyreLife'].astype(int)"
   ]
  },
  {
   "cell_type": "code",
   "execution_count": null,
   "id": "2dc2274a",
   "metadata": {},
   "outputs": [],
   "source": [
    "# Quick check to filter out any lap times that are deleted and not accurate\n",
    "quicklaps = quicklaps[(quicklaps['Deleted'] == False) & (quicklaps['IsAccurate'] == True)]"
   ]
  },
  {
   "cell_type": "markdown",
   "id": "f0aa6e5a",
   "metadata": {},
   "source": [
    "The `describe()` is a great function to help analyze the dataset and make sure that there are no significant outliers skewing the data. As you can see when we print the statistics with `describe()`, the difference between **unfiltered** and the **quicklaps** is significant. The unfiltered laps have a mean laptime of 97.84 seconds whereas the quicklaps have a mean laptime of 77.35 seconds."
   ]
  },
  {
   "cell_type": "code",
   "execution_count": null,
   "id": "d5cb1ee3",
   "metadata": {},
   "outputs": [],
   "source": [
    "print('Unfiltered Laps\\n',laps[['LapTime (s)', 'Sector1Time (s)', 'Sector2Time (s)', 'Sector3Time (s)', 'TyreLife']].describe())\n",
    "print('Quick Laps\\n',quicklaps[['LapTime (s)', 'Sector1Time (s)', 'Sector2Time (s)', 'Sector3Time (s)', 'TyreLife']].describe())"
   ]
  },
  {
   "cell_type": "code",
   "execution_count": null,
   "id": "a963464a",
   "metadata": {},
   "outputs": [],
   "source": [
    "laps.to_csv('../data/processed/2025_Hungary_all_laps_cleaned.csv', index=False)\n",
    "quicklaps.to_csv('../data/processed/2025_Hungary_all_quicklaps_cleaned.csv', index=False)"
   ]
  },
  {
   "cell_type": "markdown",
   "id": "4348373f",
   "metadata": {},
   "source": [
    "## 03 - Exploratory Data Analysis"
   ]
  },
  {
   "cell_type": "code",
   "execution_count": null,
   "id": "b8115391",
   "metadata": {},
   "outputs": [],
   "source": [
    "plt.style.use('dark_background') # Enable dark background for plt"
   ]
  },
  {
   "cell_type": "markdown",
   "id": "29224cdf",
   "metadata": {},
   "source": [
    "### 3.1 Lap Time Distribution"
   ]
  },
  {
   "cell_type": "code",
   "execution_count": 84,
   "id": "6f148f7f",
   "metadata": {},
   "outputs": [
    {
     "data": {
      "text/plain": [
       "<Axes: xlabel='LapTime (s)', ylabel='Count'>"
      ]
     },
     "execution_count": 84,
     "metadata": {},
     "output_type": "execute_result"
    },
    {
     "data": {
      "image/png": "[encoded data removed]",
      "text/plain": [
       "<Figure size 640x480 with 1 Axes>"
      ]
     },
     "metadata": {},
     "output_type": "display_data"
    }
   ],
   "source": [
    "session = fastf1.get_session(2025, 'Hungary', 'FP1') \n",
    "compound_colors = fastf1.plotting.get_compound_mapping(session) # Returns a dictionary of compounds and its hexadecimal rgb color\n",
    "\n",
    "sns.histplot(\n",
    "    data=quicklaps,\n",
    "    x='LapTime (s)',\n",
    "    hue='Compound',\n",
    "    kde=True,\n",
    "    bins=25,\n",
    "    palette=compound_colors\n",
    ")"
   ]
  },
  {
   "cell_type": "markdown",
   "id": "dcdb21b1",
   "metadata": {},
   "source": [
    "**Observation:**\n",
    "\n",
    "Soft compounds laps cluster around 76 seconds and has a tighter spread compared to the other compounds. Mediums are slower than softs on average but have more variation and a wider spread compared to the Softs. The Hards are the slowest compounds but have a lower variance than the Mediums and is more consistent.\n",
    "\n",
    "**Why it Matters:**\n",
    "\n",
    "This confirms the performance hierarchy of tire compounds in lap time but also shows us the inconsistency in Mediums. For lap time prediction, tire compound could be a key feature for modeling pace differences.\n",
    "\n",
    "**Action Items:**\n",
    "- Encode tire compound (e.g. One Hot Encoding) for capturing pace differences between tire compounds.\n",
    "- Consider interaction features between compound and tire life, since tire degradation can impact lap times.\n",
    "- Find and filter out outliers within each compound category to improve model training stability."
   ]
  },
  {
   "cell_type": "markdown",
   "id": "8c9a7b3e",
   "metadata": {},
   "source": [
    "### 3.2 Lap Time vs. Compound"
   ]
  },
  {
   "cell_type": "code",
   "execution_count": 100,
   "id": "d25a6f06",
   "metadata": {},
   "outputs": [
    {
     "data": {
      "text/plain": [
       "<Axes: xlabel='Compound', ylabel='LapTime (s)'>"
      ]
     },
     "execution_count": 100,
     "metadata": {},
     "output_type": "execute_result"
    },
    {
     "data": {
      "image/png": "[encoded data removed]",
      "text/plain": [
       "<Figure size 640x480 with 1 Axes>"
      ]
     },
     "metadata": {},
     "output_type": "display_data"
    }
   ],
   "source": [
    "sns.boxplot(\n",
    "    data=quicklaps,\n",
    "    x='Compound',\n",
    "    y='LapTime (s)',\n",
    "    hue='Compound',\n",
    "    palette=compound_colors,\n",
    "    order=['SOFT', 'MEDIUM', 'HARD'],     \n",
    "    whiskerprops=dict(color='white'),\n",
    "    boxprops=dict(edgecolor='white'),\n",
    "    medianprops=dict(color='grey'),\n",
    "    capprops=dict(color='white'),\n",
    "    flierprops=dict(markeredgecolor='white'),\n",
    ")"
   ]
  },
  {
   "cell_type": "markdown",
   "id": "b3bed88e",
   "metadata": {},
   "source": [
    "**Observation:**\n",
    "\n",
    "The Soft compound has the lowest mean lap time (~76.3 seconds) and has the narrowest IQR (~1.1 seconds), showing that many of the lap times placed with the Softs are close to the median and is consistent. Mediums are slower on average (~78.3 seconds) with a slight higher variance (~1.6 seconds). Hard compound are the slowest on average (~78.9) with a slightly more consistent IQR than mediums (~1.3 seconds). There are many outliers with the Soft compounds that may need to be filtered out.\n",
    "\n",
    "**Why it Matters:**\n",
    "\n",
    "This supports the hierarchy between the compounds and gives us an idea of how much time is gained/loss depending on the choice of compound. This plot also helped us see outliers that we could not have seen precisely with the histogram, these outliers could possibly effect our model's performance and accuracy.\n",
    "\n",
    "**Action Items:**\n",
    "\n",
    "- Encode tire compound (e.g. One Hot Encoding) for capturing pace differences between tire compounds.\n",
    "- Consider interaction features between compound and tire life, since tire degradation can impact lap times.\n",
    "- Explore the outliers with the Soft compounds and potentially remove them.\n"
   ]
  },
  {
   "cell_type": "markdown",
   "id": "d91566b5",
   "metadata": {},
   "source": [
    "### 3.3 Dealing with Soft Compound Outliers"
   ]
  },
  {
   "cell_type": "markdown",
   "id": "3c8495ba",
   "metadata": {},
   "source": [
    "Here we will explore the Soft compound outliers and observe if the outliers are worth removing from the dataset. We want to make sure that the outliers do not significantly effect our model later on. We will start by calculating the percentiles, interquartile range, upper, and lower bounds for each compound. Then we will create a function that checks if a row is outside of the bounds and mark those rows as outliers to easily flag outliers."
   ]
  },
  {
   "cell_type": "markdown",
   "id": "e1b62396",
   "metadata": {},
   "source": [
    "#### 3.3.1 Flagging Rows as Outliers"
   ]
  },
  {
   "cell_type": "code",
   "execution_count": null,
   "id": "018a3df0",
   "metadata": {},
   "outputs": [],
   "source": [
    "q1 = quicklaps.groupby('Compound')['LapTime (s)'].quantile(0.25) # Return 25th percentile grouped by compound\n",
    "q3 = quicklaps.groupby('Compound')['LapTime (s)'].quantile(0.75) # Return 75th percentile grouped by compound\n",
    "iqr = q3 - q1 # Calculate interquartile range\n",
    "upper_bound = q3 + 1.5 * iqr # Calculate upper bound for outliers\n",
    "lower_bound = q1 - 1.5 * iqr # Calculate lower bound for outliers"
   ]
  },
  {
   "cell_type": "code",
   "execution_count": null,
   "id": "49952f1e",
   "metadata": {},
   "outputs": [],
   "source": [
    "def is_outlier(row, lower_bound, upper_bound):\n",
    "    \"\"\"\n",
    "    Determines whether a lap time is an outlier based on its IQR bounds.\n",
    "\n",
    "    Parameters:\n",
    "        row (pd.Series): A single row from the DataFrame containing LapTime and Compound.\n",
    "        lower_bound (pd.Series): Lower bound values indexed by compound.\n",
    "        upper_bound (pd.Series): Upper bound values indexed by compound.\n",
    "\n",
    "    Returns:\n",
    "        bool: True if the lap time is an outlier, False otherwise.\n",
    "    \"\"\"\n",
    "    compound = row['Compound']\n",
    "    lap_time = row['LapTime (s)']\n",
    "    \n",
    "    return (lap_time > upper_bound.loc[compound]) or (lap_time < lower_bound.loc[compound])"
   ]
  },
  {
   "cell_type": "code",
   "execution_count": null,
   "id": "64f69938",
   "metadata": {},
   "outputs": [],
   "source": [
    "# Apply the is_outlier function to each row in the DataFrame\n",
    "quicklaps['IsOutlier'] = quicklaps.apply(is_outlier, axis=1, args=(lower_bound, upper_bound))"
   ]
  },
  {
   "cell_type": "code",
   "execution_count": null,
   "id": "828f495c",
   "metadata": {},
   "outputs": [],
   "source": [
    "soft_outliers = quicklaps[(quicklaps['Compound'] == 'SOFT') & (quicklaps['IsOutlier'])] # Filter for soft tire outliers\n",
    "print('Outliers for Soft Compound\\n', soft_outliers[['Driver', 'LapTime (s)']])"
   ]
  },
  {
   "cell_type": "markdown",
   "id": "25af6f8a",
   "metadata": {},
   "source": [
    "#### 3.3.2 Comparing Statistics (Outliers vs. Without Outliers)\n",
    "Now that we have flagged the Soft compound outliers, we will calculate and compare the statistics with and without outliers."
   ]
  },
  {
   "cell_type": "code",
   "execution_count": 145,
   "id": "2b8479ff",
   "metadata": {},
   "outputs": [
    {
     "name": "stdout",
     "output_type": "stream",
     "text": [
      "With Outliers:\n",
      "           count       mean       std     min       25%      50%       75%  \\\n",
      "Compound                                                                    \n",
      "HARD       38.0  78.957395  0.780880  77.794  78.36275  78.8700  79.62050   \n",
      "MEDIUM    123.0  78.329309  1.257508  76.525  77.43150  78.0100  79.07000   \n",
      "SOFT      232.0  76.584733  1.063557  74.890  75.91100  76.3385  77.00475   \n",
      "\n",
      "             max  \n",
      "Compound          \n",
      "HARD      80.667  \n",
      "MEDIUM    81.372  \n",
      "SOFT      80.144  \n",
      "\n",
      "Variance with outliers:\n",
      " Compound\n",
      "HARD      0.609774\n",
      "MEDIUM    1.581327\n",
      "SOFT      1.131153\n",
      "Name: LapTime (s), dtype: float64\n",
      "\n",
      "Standard Deviation with outliers:\n",
      " Compound\n",
      "HARD      0.780880\n",
      "MEDIUM    1.257508\n",
      "SOFT      1.063557\n",
      "Name: LapTime (s), dtype: float64\n",
      "---------------------------------------------\n",
      "Without Soft Outliers:\n",
      "           count       mean       std     min       25%      50%      75%  \\\n",
      "Compound                                                                   \n",
      "HARD       38.0  78.957395  0.780880  77.794  78.36275  78.8700  79.6205   \n",
      "MEDIUM    123.0  78.329309  1.257508  76.525  77.43150  78.0100  79.0700   \n",
      "SOFT      214.0  76.349879  0.706135  74.890  75.84225  76.2565  76.8255   \n",
      "\n",
      "             max  \n",
      "Compound          \n",
      "HARD      80.667  \n",
      "MEDIUM    81.372  \n",
      "SOFT      78.585  \n",
      "\n",
      "Variance without soft outliers:\n",
      " Compound\n",
      "HARD      0.609774\n",
      "MEDIUM    1.581327\n",
      "SOFT      0.498627\n",
      "Name: LapTime (s), dtype: float64\n",
      "\n",
      "Standard Deviation without soft outliers:\n",
      " Compound\n",
      "HARD      0.780880\n",
      "MEDIUM    1.257508\n",
      "SOFT      0.706135\n",
      "Name: LapTime (s), dtype: float64\n"
     ]
    }
   ],
   "source": [
    "# Statistics with outliers\n",
    "print(\"With Outliers:\\n\", quicklaps.groupby(\"Compound\")[\"LapTime (s)\"].describe()) \n",
    "print('\\nVariance with outliers:\\n', quicklaps.groupby(\"Compound\")[\"LapTime (s)\"].var())\n",
    "print('\\nStandard Deviation with outliers:\\n', quicklaps.groupby(\"Compound\")[\"LapTime (s)\"].std())\n",
    "print('---------------------------------------------')\n",
    "\n",
    "# Statistics without soft outliers\n",
    "quicklaps_no_soft_outliers = quicklaps[~((quicklaps['Compound'] == 'SOFT') & (quicklaps['IsOutlier']))]\n",
    "print(\"Without Soft Outliers:\\n\", quicklaps_no_soft_outliers.groupby(\"Compound\")[\"LapTime (s)\"].describe()) \n",
    "print('\\nVariance without soft outliers:\\n', quicklaps_no_soft_outliers.groupby(\"Compound\")[\"LapTime (s)\"].var())\n",
    "print('\\nStandard Deviation without soft outliers:\\n', quicklaps_no_soft_outliers.groupby(\"Compound\")[\"LapTime (s)\"].std())"
   ]
  },
  {
   "cell_type": "markdown",
   "id": "5efea364",
   "metadata": {},
   "source": []
  },
  {
   "cell_type": "markdown",
   "id": "080d157d",
   "metadata": {},
   "source": [
    "## 04 - Feature Engineering"
   ]
  },
  {
   "cell_type": "markdown",
   "id": "5c1c13b9",
   "metadata": {},
   "source": [
    "## 05 - Modeling"
   ]
  },
  {
   "cell_type": "markdown",
   "id": "45bcce00",
   "metadata": {},
   "source": [
    "## 06 - Insights & Interpretation"
   ]
  },
  {
   "cell_type": "markdown",
   "id": "5939ef9a",
   "metadata": {},
   "source": [
    "## 07 - Conclusion & Next Steps"
   ]
  }
 ],
 "metadata": {
  "kernelspec": {
   "display_name": "f1-predictor",
   "language": "python",
   "name": "python3"
  },
  "language_info": {
   "codemirror_mode": {
    "name": "ipython",
    "version": 3
   },
   "file_extension": ".py",
   "mimetype": "text/x-python",
   "name": "python",
   "nbconvert_exporter": "python",
   "pygments_lexer": "ipython3",
   "version": "3.10.13"
  }
 },
 "nbformat": 4,
 "nbformat_minor": 5
}
